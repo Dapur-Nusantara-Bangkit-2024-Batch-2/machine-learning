{
 "cells": [
  {
   "cell_type": "markdown",
   "metadata": {},
   "source": [
    "### Import Libraries"
   ]
  },
  {
   "cell_type": "code",
   "execution_count": 2,
   "metadata": {},
   "outputs": [],
   "source": [
    "import os"
   ]
  },
  {
   "cell_type": "markdown",
   "metadata": {},
   "source": [
    "### Rename Dataset"
   ]
  },
  {
   "cell_type": "code",
   "execution_count": 1,
   "metadata": {},
   "outputs": [],
   "source": [
    "# def rename_images_in_directory(directory):\n",
    "#     for subdir, _, files in os.walk(directory):\n",
    "#         for i, file in enumerate(files):\n",
    "#             file_ext = os.path.splitext(file)[1]\n",
    "#             class_name = os.path.basename(subdir)\n",
    "#             new_name = f\"{class_name}_{i+1}{file_ext}\"\n",
    "#             old_file = os.path.join(subdir, file)\n",
    "#             new_file = os.path.join(subdir, new_name)\n",
    "#             os.rename(old_file, new_file)\n",
    "\n",
    "# # Rename images in train and test directories\n",
    "# train_dir = 'dataset/train'\n",
    "# test_dir = 'dataset/test'\n",
    "\n",
    "# rename_images_in_directory(train_dir)\n",
    "# rename_images_in_directory(test_dir)"
   ]
  },
  {
   "cell_type": "code",
   "execution_count": null,
   "metadata": {},
   "outputs": [],
   "source": []
  }
 ],
 "metadata": {
  "kernelspec": {
   "display_name": "Python 3",
   "language": "python",
   "name": "python3"
  },
  "language_info": {
   "codemirror_mode": {
    "name": "ipython",
    "version": 3
   },
   "file_extension": ".py",
   "mimetype": "text/x-python",
   "name": "python",
   "nbconvert_exporter": "python",
   "pygments_lexer": "ipython3",
   "version": "3.11.4"
  }
 },
 "nbformat": 4,
 "nbformat_minor": 2
}
