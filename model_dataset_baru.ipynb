{
  "nbformat": 4,
  "nbformat_minor": 0,
  "metadata": {
    "colab": {
      "provenance": []
    },
    "kernelspec": {
      "name": "python3",
      "display_name": "Python 3"
    },
    "language_info": {
      "name": "python"
    }
  },
  "cells": [
    {
      "cell_type": "code",
      "execution_count": 1,
      "metadata": {
        "colab": {
          "base_uri": "https://localhost:8080/"
        },
        "id": "Ad3TqcFv99Jv",
        "outputId": "36bc33e4-2b18-4d20-bec6-e6c96f348e8e"
      },
      "outputs": [
        {
          "output_type": "stream",
          "name": "stdout",
          "text": [
            "Cloning into 'machine-learning'...\n",
            "remote: Enumerating objects: 1211, done.\u001b[K\n",
            "remote: Counting objects: 100% (229/229), done.\u001b[K\n",
            "remote: Compressing objects: 100% (226/226), done.\u001b[K\n",
            "remote: Total 1211 (delta 62), reused 6 (delta 3), pack-reused 982\u001b[K\n",
            "Receiving objects: 100% (1211/1211), 44.82 MiB | 30.39 MiB/s, done.\n",
            "Resolving deltas: 100% (119/119), done.\n"
          ]
        }
      ],
      "source": [
        "!git clone https://github.com/Dapur-Nusantara-Bangkit-2024-Batch-2/machine-learning.git"
      ]
    },
    {
      "cell_type": "code",
      "source": [
        "import tensorflow as tf\n",
        "from tensorflow.keras.preprocessing import image_dataset_from_directory\n",
        "from tensorflow.keras import layers, models\n",
        "import warnings\n",
        "\n",
        "warnings.filterwarnings(\"ignore\")\n",
        "\n",
        "# Define paths\n",
        "train_dir = '/content/machine-learning/dataset/train'\n",
        "test_dir = '/content/machine-learning/dataset/test'\n",
        "\n",
        "# Load datasets\n",
        "batch_size = 32\n",
        "img_height = 224\n",
        "img_width = 224\n",
        "\n",
        "train_dataset = image_dataset_from_directory(train_dir,\n",
        "                                             shuffle=True,\n",
        "                                             batch_size=batch_size,\n",
        "                                             image_size=(img_height, img_width))\n",
        "\n",
        "test_dataset = image_dataset_from_directory(test_dir,\n",
        "                                            shuffle=True,\n",
        "                                            batch_size=batch_size,\n",
        "                                            image_size=(img_height, img_width))\n",
        "\n",
        "# Data augmentation\n",
        "data_augmentation = tf.keras.Sequential([\n",
        "    layers.RandomFlip('horizontal'),\n",
        "    layers.RandomRotation(0.2),\n",
        "    layers.RandomZoom(0.2),\n",
        "])\n",
        "\n",
        "# Normalize the images to the range the pre-trained model expects\n",
        "preprocess_input = tf.keras.applications.mobilenet_v2.preprocess_input\n",
        "\n",
        "# Create the base model from the pre-trained model MobileNet V2\n",
        "base_model = tf.keras.applications.MobileNetV2(input_shape=(img_height, img_width, 3),\n",
        "                                               include_top=False,\n",
        "                                               weights='imagenet')\n",
        "\n",
        "# Unfreeze some layers of the base model for fine-tuning\n",
        "base_model.trainable = True\n",
        "for layer in base_model.layers[:-20]:\n",
        "    layer.trainable = False\n",
        "\n",
        "# Add classification head\n",
        "num_classes = len(train_dataset.class_names)\n",
        "\n",
        "model = models.Sequential([\n",
        "    data_augmentation,\n",
        "    layers.Lambda(preprocess_input),\n",
        "    base_model,\n",
        "    layers.GlobalAveragePooling2D(),\n",
        "    layers.Dense(num_classes, activation='softmax')\n",
        "])\n",
        "\n",
        "\n",
        "\n",
        "# Compile the model\n",
        "model.compile(optimizer=tf.keras.optimizers.Adam(learning_rate=0.0001),\n",
        "              loss=tf.keras.losses.SparseCategoricalCrossentropy(from_logits=False),\n",
        "              metrics=['accuracy'])\n",
        "\n",
        "# Callbacks for early stopping and model checkpoint\n",
        "early_stopping = tf.keras.callbacks.EarlyStopping(monitor='val_loss', patience=5, restore_best_weights=True)\n",
        "model_checkpoint = tf.keras.callbacks.ModelCheckpoint('best_model.h5', save_best_only=True, monitor='val_loss')\n",
        "reduce_lr = tf.keras.callbacks.ReduceLROnPlateau(monitor='val_loss', factor=0.2, patience=3, min_lr=0.00001)\n",
        "\n",
        "# Train the model\n",
        "epochs = 10\n",
        "history = model.fit(train_dataset,\n",
        "                    validation_data=test_dataset,\n",
        "                    epochs=epochs,\n",
        "                    callbacks=[early_stopping, model_checkpoint, reduce_lr])\n",
        "\n",
        "# Load the best model\n",
        "model.load_weights('best_model.h5')\n",
        "\n",
        "# Evaluate the model\n",
        "loss, accuracy = model.evaluate(test_dataset)\n",
        "print(f'Test accuracy: {accuracy}')\n",
        "\n",
        "# Convert the model to TFLite\n",
        "converter = tf.lite.TFLiteConverter.from_keras_model(model)\n",
        "tflite_model = converter.convert()\n",
        "\n",
        "# Save the model\n",
        "with open('model.tflite', 'wb') as f:\n",
        "    f.write(tflite_model)\n",
        "\n",
        "print(\"Model converted to TFLite and saved as 'model.tflite'\")\n"
      ],
      "metadata": {
        "colab": {
          "base_uri": "https://localhost:8080/"
        },
        "id": "dRnF5y9i-KXM",
        "outputId": "f9e6ebfd-9c5e-4e65-82d0-f316d62bb9fc"
      },
      "execution_count": 2,
      "outputs": [
        {
          "output_type": "stream",
          "name": "stdout",
          "text": [
            "Found 793 files belonging to 20 classes.\n",
            "Found 199 files belonging to 20 classes.\n",
            "Downloading data from https://storage.googleapis.com/tensorflow/keras-applications/mobilenet_v2/mobilenet_v2_weights_tf_dim_ordering_tf_kernels_1.0_224_no_top.h5\n",
            "9406464/9406464 [==============================] - 1s 0us/step\n",
            "Epoch 1/10\n",
            "25/25 [==============================] - 66s 2s/step - loss: 2.5743 - accuracy: 0.2320 - val_loss: 2.3216 - val_accuracy: 0.3015 - lr: 1.0000e-04\n",
            "Epoch 2/10\n",
            "25/25 [==============================] - 60s 2s/step - loss: 1.3865 - accuracy: 0.6797 - val_loss: 1.7724 - val_accuracy: 0.4472 - lr: 1.0000e-04\n",
            "Epoch 3/10\n",
            "25/25 [==============================] - 57s 2s/step - loss: 0.8753 - accuracy: 0.8146 - val_loss: 1.3891 - val_accuracy: 0.5879 - lr: 1.0000e-04\n",
            "Epoch 4/10\n",
            "25/25 [==============================] - 58s 2s/step - loss: 0.5842 - accuracy: 0.8852 - val_loss: 1.1782 - val_accuracy: 0.6482 - lr: 1.0000e-04\n",
            "Epoch 5/10\n",
            "25/25 [==============================] - 57s 2s/step - loss: 0.4679 - accuracy: 0.9067 - val_loss: 1.0787 - val_accuracy: 0.6784 - lr: 1.0000e-04\n",
            "Epoch 6/10\n",
            "25/25 [==============================] - 62s 2s/step - loss: 0.3610 - accuracy: 0.9206 - val_loss: 1.0414 - val_accuracy: 0.6734 - lr: 1.0000e-04\n",
            "Epoch 7/10\n",
            "25/25 [==============================] - 58s 2s/step - loss: 0.2985 - accuracy: 0.9496 - val_loss: 0.9597 - val_accuracy: 0.6884 - lr: 1.0000e-04\n",
            "Epoch 8/10\n",
            "25/25 [==============================] - 58s 2s/step - loss: 0.2403 - accuracy: 0.9622 - val_loss: 0.8930 - val_accuracy: 0.7186 - lr: 1.0000e-04\n",
            "Epoch 9/10\n",
            "25/25 [==============================] - 57s 2s/step - loss: 0.1902 - accuracy: 0.9647 - val_loss: 0.8401 - val_accuracy: 0.7286 - lr: 1.0000e-04\n",
            "Epoch 10/10\n",
            "25/25 [==============================] - 60s 2s/step - loss: 0.1686 - accuracy: 0.9723 - val_loss: 0.8120 - val_accuracy: 0.7437 - lr: 1.0000e-04\n",
            "7/7 [==============================] - 9s 1s/step - loss: 0.8120 - accuracy: 0.7437\n",
            "Test accuracy: 0.7437185645103455\n",
            "Model converted to TFLite and saved as 'model.tflite'\n"
          ]
        }
      ]
    }
  ]
}